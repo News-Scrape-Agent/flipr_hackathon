{
 "cells": [
  {
   "cell_type": "code",
   "execution_count": 7,
   "metadata": {
    "execution": {
     "iopub.execute_input": "2025-02-23T21:02:20.522078Z",
     "iopub.status.busy": "2025-02-23T21:02:20.521361Z",
     "iopub.status.idle": "2025-02-23T21:02:20.526818Z",
     "shell.execute_reply": "2025-02-23T21:02:20.525899Z",
     "shell.execute_reply.started": "2025-02-23T21:02:20.522047Z"
    },
    "trusted": true
   },
   "outputs": [],
   "source": [
    "import pandas as pd\n",
    "import numpy as np\n",
    "import torch\n",
    "from torch.utils.data import Dataset, DataLoader\n",
    "from transformers import BertTokenizer, BertForSequenceClassification, AdamW\n",
    "from sklearn.model_selection import train_test_split\n",
    "from sklearn.preprocessing import LabelEncoder\n",
    "from sklearn.metrics import accuracy_score"
   ]
  },
  {
   "cell_type": "code",
   "execution_count": null,
   "metadata": {
    "execution": {
     "iopub.execute_input": "2025-02-23T21:02:21.096487Z",
     "iopub.status.busy": "2025-02-23T21:02:21.095911Z",
     "iopub.status.idle": "2025-02-23T21:02:21.243457Z",
     "shell.execute_reply": "2025-02-23T21:02:21.242493Z",
     "shell.execute_reply.started": "2025-02-23T21:02:21.096453Z"
    },
    "trusted": true
   },
   "outputs": [
    {
     "data": {
      "text/html": [
       "<div>\n",
       "<style scoped>\n",
       "    .dataframe tbody tr th:only-of-type {\n",
       "        vertical-align: middle;\n",
       "    }\n",
       "\n",
       "    .dataframe tbody tr th {\n",
       "        vertical-align: top;\n",
       "    }\n",
       "\n",
       "    .dataframe thead th {\n",
       "        text-align: right;\n",
       "    }\n",
       "</style>\n",
       "<table border=\"1\" class=\"dataframe\">\n",
       "  <thead>\n",
       "    <tr style=\"text-align: right;\">\n",
       "      <th></th>\n",
       "      <th>category</th>\n",
       "      <th>text</th>\n",
       "    </tr>\n",
       "  </thead>\n",
       "  <tbody>\n",
       "    <tr>\n",
       "      <th>0</th>\n",
       "      <td>CRIME</td>\n",
       "      <td>I Won't Be Coming Home for Christmas: The Chri...</td>\n",
       "    </tr>\n",
       "    <tr>\n",
       "      <th>1</th>\n",
       "      <td>CRIME</td>\n",
       "      <td>Gang Used Drone Swarm To Thwart FBI Hostage Ra...</td>\n",
       "    </tr>\n",
       "    <tr>\n",
       "      <th>2</th>\n",
       "      <td>CRIME</td>\n",
       "      <td>Bystander Opens Fire On Suspected Home Depot S...</td>\n",
       "    </tr>\n",
       "    <tr>\n",
       "      <th>3</th>\n",
       "      <td>CRIME</td>\n",
       "      <td>'Very Disorderly' Waldo Makes It Easy For Poli...</td>\n",
       "    </tr>\n",
       "    <tr>\n",
       "      <th>4</th>\n",
       "      <td>CRIME</td>\n",
       "      <td>3 Seriously Injured In Grand Central Station S...</td>\n",
       "    </tr>\n",
       "  </tbody>\n",
       "</table>\n",
       "</div>"
      ],
      "text/plain": [
       "  category                                               text\n",
       "0    CRIME  I Won't Be Coming Home for Christmas: The Chri...\n",
       "1    CRIME  Gang Used Drone Swarm To Thwart FBI Hostage Ra...\n",
       "2    CRIME  Bystander Opens Fire On Suspected Home Depot S...\n",
       "3    CRIME  'Very Disorderly' Waldo Makes It Easy For Poli...\n",
       "4    CRIME  3 Seriously Injured In Grand Central Station S..."
      ]
     },
     "execution_count": 8,
     "metadata": {},
     "output_type": "execute_result"
    }
   ],
   "source": [
    "# Load the data\n",
    "df = pd.read_csv('/kaggle/input/news-dataset/final_data.csv')\n",
    "df.head()"
   ]
  },
  {
   "cell_type": "code",
   "execution_count": 9,
   "metadata": {
    "execution": {
     "iopub.execute_input": "2025-02-23T21:02:22.454860Z",
     "iopub.status.busy": "2025-02-23T21:02:22.454510Z",
     "iopub.status.idle": "2025-02-23T21:02:22.468062Z",
     "shell.execute_reply": "2025-02-23T21:02:22.467111Z",
     "shell.execute_reply.started": "2025-02-23T21:02:22.454831Z"
    },
    "trusted": true
   },
   "outputs": [],
   "source": [
    "encoder = LabelEncoder()\n",
    "df['categoryEncoded'] = encoder.fit_transform(df['category'])\n",
    "\n",
    "# df['headline'] = df['headline'].apply(lambda headline: str(headline).lower())\n",
    "# df['short_description'] = df['short_description'].apply(lambda descr: str(descr).lower())\n",
    "# df['descr_len'] = df['short_description'].apply(lambda x: len(str(x).split()))\n",
    "# df['headline_len'] = df['headline'].apply(lambda x: len(str(x).split()))"
   ]
  },
  {
   "cell_type": "code",
   "execution_count": null,
   "metadata": {
    "execution": {
     "iopub.execute_input": "2025-02-23T21:02:24.485555Z",
     "iopub.status.busy": "2025-02-23T21:02:24.485190Z",
     "iopub.status.idle": "2025-02-23T21:02:24.498944Z",
     "shell.execute_reply": "2025-02-23T21:02:24.498028Z",
     "shell.execute_reply.started": "2025-02-23T21:02:24.485524Z"
    },
    "trusted": true
   },
   "outputs": [],
   "source": [
    "# Split the data\n",
    "train_texts, test_texts, train_labels, test_labels = train_test_split(\n",
    "    df['text'], df['categoryEncoded'], \n",
    "    random_state=2020, test_size=0.15\n",
    ")"
   ]
  },
  {
   "cell_type": "code",
   "execution_count": null,
   "metadata": {
    "execution": {
     "iopub.execute_input": "2025-02-23T21:02:25.225271Z",
     "iopub.status.busy": "2025-02-23T21:02:25.224070Z",
     "iopub.status.idle": "2025-02-23T21:02:26.002519Z",
     "shell.execute_reply": "2025-02-23T21:02:26.001752Z",
     "shell.execute_reply.started": "2025-02-23T21:02:25.225233Z"
    },
    "trusted": true
   },
   "outputs": [],
   "source": [
    "tokenizer = BertTokenizer.from_pretrained('bert-large-uncased')\n",
    "\n",
    "# Tokenization function\n",
    "def tokenize_texts(texts, tokenizer, max_length=80):\n",
    "    return tokenizer(\n",
    "        texts.tolist(),\n",
    "        padding='max_length',\n",
    "        truncation=True,\n",
    "        max_length=max_length,\n",
    "        return_tensors='pt'\n",
    "    )"
   ]
  },
  {
   "cell_type": "code",
   "execution_count": null,
   "metadata": {
    "execution": {
     "iopub.execute_input": "2025-02-23T21:02:27.610499Z",
     "iopub.status.busy": "2025-02-23T21:02:27.609657Z",
     "iopub.status.idle": "2025-02-23T21:03:04.672967Z",
     "shell.execute_reply": "2025-02-23T21:03:04.671624Z",
     "shell.execute_reply.started": "2025-02-23T21:02:27.610450Z"
    },
    "trusted": true
   },
   "outputs": [],
   "source": [
    "train_encodings = tokenize_texts(train_texts.astype('str'), tokenizer, max_length=80)\n",
    "test_encodings = tokenize_texts(test_texts.astype('str'), tokenizer, max_length=80)\n",
    "\n",
    "# 5. Create a custom Dataset class\n",
    "class NewsDataset(Dataset):\n",
    "    def __init__(self, encodings, labels):\n",
    "        self.encodings = encodings\n",
    "        self.labels = labels.values  \n",
    "        \n",
    "    def __getitem__(self, idx):\n",
    "        item = {key: val[idx] for key, val in self.encodings.items()}\n",
    "        item['labels'] = torch.tensor(self.labels[idx] , dtype=torch.long)\n",
    "        return item\n",
    "    \n",
    "    def __len__(self):\n",
    "        return len(self.labels)\n",
    "\n",
    "train_dataset = NewsDataset(train_encodings, train_labels)\n",
    "test_dataset = NewsDataset(test_encodings, test_labels)\n",
    "\n",
    "BATCH_SIZE = 32\n",
    "train_loader = DataLoader(train_dataset, batch_size=BATCH_SIZE, shuffle=True)\n",
    "test_loader = DataLoader(test_dataset, batch_size=BATCH_SIZE, shuffle=False)"
   ]
  },
  {
   "cell_type": "code",
   "execution_count": null,
   "metadata": {
    "execution": {
     "iopub.execute_input": "2025-02-23T21:03:04.675903Z",
     "iopub.status.busy": "2025-02-23T21:03:04.675287Z",
     "iopub.status.idle": "2025-02-23T21:03:36.086809Z",
     "shell.execute_reply": "2025-02-23T21:03:36.085833Z",
     "shell.execute_reply.started": "2025-02-23T21:03:04.675849Z"
    },
    "trusted": true
   },
   "outputs": [
    {
     "data": {
      "application/vnd.jupyter.widget-view+json": {
       "model_id": "d989b8f5fcfa43a88f295bcab5d357fc",
       "version_major": 2,
       "version_minor": 0
      },
      "text/plain": [
       "Downloading:   0%|          | 0.00/1.25G [00:00<?, ?B/s]"
      ]
     },
     "metadata": {},
     "output_type": "display_data"
    },
    {
     "name": "stderr",
     "output_type": "stream",
     "text": [
      "Some weights of the model checkpoint at bert-large-uncased were not used when initializing BertForSequenceClassification: ['cls.seq_relationship.bias', 'cls.predictions.bias', 'cls.predictions.transform.dense.bias', 'cls.seq_relationship.weight', 'cls.predictions.transform.LayerNorm.bias', 'cls.predictions.transform.LayerNorm.weight', 'cls.predictions.decoder.weight', 'cls.predictions.transform.dense.weight']\n",
      "- This IS expected if you are initializing BertForSequenceClassification from the checkpoint of a model trained on another task or with another architecture (e.g. initializing a BertForSequenceClassification model from a BertForPreTraining model).\n",
      "- This IS NOT expected if you are initializing BertForSequenceClassification from the checkpoint of a model that you expect to be exactly identical (initializing a BertForSequenceClassification model from a BertForSequenceClassification model).\n",
      "Some weights of BertForSequenceClassification were not initialized from the model checkpoint at bert-large-uncased and are newly initialized: ['classifier.weight', 'classifier.bias']\n",
      "You should probably TRAIN this model on a down-stream task to be able to use it for predictions and inference.\n",
      "/opt/conda/lib/python3.7/site-packages/transformers/optimization.py:310: FutureWarning: This implementation of AdamW is deprecated and will be removed in a future version. Use the PyTorch implementation torch.optim.AdamW instead, or set `no_deprecation_warning=True` to disable this warning\n",
      "  FutureWarning,\n"
     ]
    }
   ],
   "source": [
    "# Initialize the model (BERT for sequence classification with 11 classes)\n",
    "model = BertForSequenceClassification.from_pretrained('bert-large-uncased', num_labels=11)\n",
    "\n",
    "device = torch.device('cuda') if torch.cuda.is_available() else torch.device('cpu')\n",
    "model.to(device)\n",
    "\n",
    "# Optimizer\n",
    "optimizer = AdamW(model.parameters(), lr=3e-5)"
   ]
  },
  {
   "cell_type": "code",
   "execution_count": 14,
   "metadata": {
    "execution": {
     "iopub.execute_input": "2025-02-23T21:03:36.088331Z",
     "iopub.status.busy": "2025-02-23T21:03:36.087941Z",
     "iopub.status.idle": "2025-02-23T21:03:36.094288Z",
     "shell.execute_reply": "2025-02-23T21:03:36.093180Z",
     "shell.execute_reply.started": "2025-02-23T21:03:36.088293Z"
    },
    "trusted": true
   },
   "outputs": [
    {
     "name": "stdout",
     "output_type": "stream",
     "text": [
      "cuda\n"
     ]
    }
   ],
   "source": [
    "print(device)"
   ]
  },
  {
   "cell_type": "code",
   "execution_count": null,
   "metadata": {
    "execution": {
     "iopub.execute_input": "2025-02-23T21:03:41.830049Z",
     "iopub.status.busy": "2025-02-23T21:03:41.829117Z",
     "iopub.status.idle": "2025-02-23T23:36:20.735200Z",
     "shell.execute_reply": "2025-02-23T23:36:20.734230Z",
     "shell.execute_reply.started": "2025-02-23T21:03:41.830011Z"
    },
    "trusted": true
   },
   "outputs": [
    {
     "name": "stderr",
     "output_type": "stream",
     "text": [
      "Epoch 1/10: 100%|██████████| 1183/1183 [15:10<00:00,  1.30it/s, loss=0.597]\n"
     ]
    },
    {
     "name": "stdout",
     "output_type": "stream",
     "text": [
      "Epoch 1/10, Loss: 0.6786\n"
     ]
    },
    {
     "name": "stderr",
     "output_type": "stream",
     "text": [
      "Epoch 2/10: 100%|██████████| 1183/1183 [15:12<00:00,  1.30it/s, loss=0.491] \n"
     ]
    },
    {
     "name": "stdout",
     "output_type": "stream",
     "text": [
      "Epoch 2/10, Loss: 0.2756\n"
     ]
    },
    {
     "name": "stderr",
     "output_type": "stream",
     "text": [
      "Epoch 3/10: 100%|██████████| 1183/1183 [15:14<00:00,  1.29it/s, loss=0.24]   \n"
     ]
    },
    {
     "name": "stdout",
     "output_type": "stream",
     "text": [
      "Epoch 3/10, Loss: 0.1258\n"
     ]
    },
    {
     "name": "stderr",
     "output_type": "stream",
     "text": [
      "Epoch 4/10: 100%|██████████| 1183/1183 [15:16<00:00,  1.29it/s, loss=0.344]  \n"
     ]
    },
    {
     "name": "stdout",
     "output_type": "stream",
     "text": [
      "Epoch 4/10, Loss: 0.0747\n"
     ]
    },
    {
     "name": "stderr",
     "output_type": "stream",
     "text": [
      "Epoch 5/10: 100%|██████████| 1183/1183 [15:17<00:00,  1.29it/s, loss=0.00531]\n"
     ]
    },
    {
     "name": "stdout",
     "output_type": "stream",
     "text": [
      "Epoch 5/10, Loss: 0.0548\n"
     ]
    },
    {
     "name": "stderr",
     "output_type": "stream",
     "text": [
      "Epoch 6/10: 100%|██████████| 1183/1183 [15:17<00:00,  1.29it/s, loss=0.00388]\n"
     ]
    },
    {
     "name": "stdout",
     "output_type": "stream",
     "text": [
      "Epoch 6/10, Loss: 0.0442\n"
     ]
    },
    {
     "name": "stderr",
     "output_type": "stream",
     "text": [
      "Epoch 7/10: 100%|██████████| 1183/1183 [15:17<00:00,  1.29it/s, loss=0.00889] \n"
     ]
    },
    {
     "name": "stdout",
     "output_type": "stream",
     "text": [
      "Epoch 7/10, Loss: 0.0398\n"
     ]
    },
    {
     "name": "stderr",
     "output_type": "stream",
     "text": [
      "Epoch 8/10: 100%|██████████| 1183/1183 [15:17<00:00,  1.29it/s, loss=0.00251] \n"
     ]
    },
    {
     "name": "stdout",
     "output_type": "stream",
     "text": [
      "Epoch 8/10, Loss: 0.0274\n"
     ]
    },
    {
     "name": "stderr",
     "output_type": "stream",
     "text": [
      "Epoch 9/10: 100%|██████████| 1183/1183 [15:17<00:00,  1.29it/s, loss=0.267]  \n"
     ]
    },
    {
     "name": "stdout",
     "output_type": "stream",
     "text": [
      "Epoch 9/10, Loss: 0.0357\n"
     ]
    },
    {
     "name": "stderr",
     "output_type": "stream",
     "text": [
      "Epoch 10/10: 100%|██████████| 1183/1183 [15:17<00:00,  1.29it/s, loss=0.00121]"
     ]
    },
    {
     "name": "stdout",
     "output_type": "stream",
     "text": [
      "Epoch 10/10, Loss: 0.0743\n"
     ]
    },
    {
     "name": "stderr",
     "output_type": "stream",
     "text": [
      "\n"
     ]
    }
   ],
   "source": [
    "from tqdm import tqdm\n",
    "\n",
    "# Training loop\n",
    "for epoch in range(10):\n",
    "    total_loss = 0\n",
    "    progress_bar = tqdm(train_loader, desc=f\"Epoch {epoch+1}/{10}\")\n",
    "    for batch in progress_bar:\n",
    "        batch = {k: v.to(device) for k, v in batch.items()}\n",
    "        \n",
    "        optimizer.zero_grad()\n",
    "        outputs = model(**batch)  # the model returns loss and logits\n",
    "        loss = outputs.loss\n",
    "        loss.backward()\n",
    "        optimizer.step()\n",
    "        \n",
    "        total_loss += loss.item()\n",
    "        progress_bar.set_postfix(loss=loss.item())\n",
    "    \n",
    "    avg_loss = total_loss / len(train_loader)\n",
    "    print(f\"Epoch {epoch+1}/{10}, Loss: {avg_loss:.4f}\")"
   ]
  },
  {
   "cell_type": "code",
   "execution_count": null,
   "metadata": {
    "execution": {
     "iopub.execute_input": "2025-02-23T23:36:20.736912Z",
     "iopub.status.busy": "2025-02-23T23:36:20.736670Z",
     "iopub.status.idle": "2025-02-23T23:37:12.029421Z",
     "shell.execute_reply": "2025-02-23T23:37:12.028499Z",
     "shell.execute_reply.started": "2025-02-23T23:36:20.736890Z"
    },
    "trusted": true
   },
   "outputs": [
    {
     "name": "stdout",
     "output_type": "stream",
     "text": [
      "                                         description  true_category  \\\n",
      "0  Stop Worrying: 2 Tools That Work \\n Worrying i...         HEALTH   \n",
      "1  get scared people say shes careerbest taapsee ...  ENTERTAINMENT   \n",
      "2  Lob Haircuts Are Having A Moment In This Week'...      LIFESTYLE   \n",
      "3  The Future of Venture Capital (Part 2) \\n I wa...        SCIENCE   \n",
      "4  Steve Martin Says ‘Only Murders In The Buildin...  ENTERTAINMENT   \n",
      "\n",
      "  predicted_category  \n",
      "0             HEALTH  \n",
      "1      ENTERTAINMENT  \n",
      "2          LIFESTYLE  \n",
      "3            FINANCE  \n",
      "4      ENTERTAINMENT  \n",
      "Accuracy is 0.8374\n"
     ]
    }
   ],
   "source": [
    "model.eval()\n",
    "all_preds = []\n",
    "all_labels = []\n",
    "\n",
    "# Test DataLoader\n",
    "for batch in test_loader:\n",
    "    batch = {k: v.to(device) for k, v in batch.items()}\n",
    "    with torch.no_grad():\n",
    "        outputs = model(**batch)\n",
    "    logits = outputs.logits\n",
    "    preds = torch.argmax(logits, dim=-1)\n",
    "    \n",
    "    all_preds.extend(preds.cpu().numpy())\n",
    "    all_labels.extend(batch['labels'].cpu().numpy())\n",
    "\n",
    "# Map integer predictions back to category names\n",
    "predicted_categories = [encoder.classes_[i] for i in all_preds]\n",
    "true_categories = [encoder.classes_[i] for i in all_labels]\n",
    "\n",
    "# Create a results DataFrame\n",
    "result_df = pd.DataFrame({\n",
    "    'description': test_texts.tolist(),  # test_texts is the original text Series from train_test_split\n",
    "    'true_category': true_categories,\n",
    "    'predicted_category': predicted_categories\n",
    "})\n",
    "\n",
    "print(result_df.head())\n",
    "print(f\"Accuracy is {accuracy_score(true_categories, predicted_categories):.4f}\")"
   ]
  },
  {
   "cell_type": "code",
   "execution_count": null,
   "metadata": {
    "execution": {
     "iopub.execute_input": "2025-02-23T23:39:50.165822Z",
     "iopub.status.busy": "2025-02-23T23:39:50.165464Z",
     "iopub.status.idle": "2025-02-23T23:41:01.504936Z",
     "shell.execute_reply": "2025-02-23T23:41:01.503961Z",
     "shell.execute_reply.started": "2025-02-23T23:39:50.165791Z"
    },
    "trusted": true
   },
   "outputs": [
    {
     "data": {
      "text/html": [
       "<a href='/kaggle/working/saved_model_zip.zip' target='_blank'>/kaggle/working/saved_model_zip.zip</a><br>"
      ],
      "text/plain": [
       "/kaggle/working/saved_model_zip.zip"
      ]
     },
     "execution_count": 19,
     "metadata": {},
     "output_type": "execute_result"
    }
   ],
   "source": [
    "import os\n",
    "from shutil import make_archive\n",
    "from IPython.display import FileLink\n",
    "\n",
    "output_dir = \"/kaggle/working/saved_model\"\n",
    "\n",
    "# Create the directory if it doesn't exist\n",
    "if not os.path.exists(output_dir):\n",
    "    os.makedirs(output_dir)\n",
    "\n",
    "# Save the model and tokenizer\n",
    "model.save_pretrained(output_dir)\n",
    "tokenizer.save_pretrained(output_dir)\n",
    "\n",
    "# Zip the model directory\n",
    "zip_path = \"/kaggle/working/saved_model_zip\"\n",
    "make_archive(zip_path, 'zip', output_dir)\n",
    "\n",
    "FileLink(zip_path + \".zip\")"
   ]
  },
  {
   "cell_type": "code",
   "execution_count": null,
   "metadata": {
    "execution": {
     "iopub.execute_input": "2025-02-23T23:51:21.759611Z",
     "iopub.status.busy": "2025-02-23T23:51:21.758915Z",
     "iopub.status.idle": "2025-02-23T23:51:21.787330Z",
     "shell.execute_reply": "2025-02-23T23:51:21.786437Z",
     "shell.execute_reply.started": "2025-02-23T23:51:21.759579Z"
    },
    "trusted": true
   },
   "outputs": [
    {
     "name": "stdout",
     "output_type": "stream",
     "text": [
      "Predicted Category: HEALTH, Confidence: 0.9987987279891968\n"
     ]
    }
   ],
   "source": [
    "import torch.nn.functional as F\n",
    "\n",
    "def predict_category(text, model, tokenizer, device, max_length=80 , threshold=0.5 , common_class=\"COMMON\"):\n",
    "    \"\"\"\n",
    "    Given a text input, predicts the news category.\n",
    "    \n",
    "    Args:\n",
    "        text (str): The input text (news description) [if heading available pass heading + \\n + content].\n",
    "        model (torch.nn.Module): The trained classification model.\n",
    "        tokenizer: Hugging Face tokenizer corresponding to the model.\n",
    "        device: Device on which model runs (cpu or cuda).\n",
    "        label_encoder: Fitted LabelEncoder to convert class indices to category names.\n",
    "        max_length (int): Maximum token length for model inputs.\n",
    "        \n",
    "    Returns:\n",
    "        predicted_category (str): The predicted news category.\n",
    "    \"\"\"\n",
    "    # Tokenize input text\n",
    "    inputs = tokenizer(text, return_tensors=\"pt\", truncation=True, padding=True, max_length=512).to(device)\n",
    "\n",
    "    # Get model output\n",
    "    model.eval()\n",
    "    with torch.no_grad():\n",
    "        outputs = model(**inputs)\n",
    "    \n",
    "    # Get logits and convert to probabilities\n",
    "    logits = outputs.logits\n",
    "    probabilities = F.softmax(logits, dim=-1)\n",
    "\n",
    "    # Get highest probability and corresponding label\n",
    "    max_prob, predicted_class = torch.max(probabilities, dim=-1)\n",
    "    \n",
    "    # Decode predicted class\n",
    "    predicted_class = predicted_class.item()\n",
    "    confidence = max_prob.item()\n",
    "\n",
    "    # Load the category labels (modify this based on how labels are stored)\n",
    "    category_labels = [\"POLITICS\", \"SPORTS\", \"ENTERTAINMENT\", \"FINANCE\", \"HEALTH\", \"SCIENCE\", \"WORLD\" , \"LIFESTYLE\" , \"CRIME\" , \"ENVIRONMENT\" , \"EDUCATION\"]  # Update with actual labels\n",
    "    predicted_label = category_labels[predicted_class] if confidence >= threshold else common_class\n",
    "\n",
    "    return predicted_label, confidence\n",
    "\n",
    "text = \"Stock markets are experiencing a major crash due to economic instability.\"\n",
    "predicted_label, confidence = predict_category(model=model, tokenizer=tokenizer, text=text ,device=device)\n",
    "print(f\"Predicted Category: {predicted_label}, Confidence: {confidence}\")"
   ]
  },
  {
   "cell_type": "markdown",
   "metadata": {},
   "source": [
    "<table align=\"left\">\n",
    "  <td>\n",
    "    <a href=\"https://colab.research.google.com/github/nyandwi/machine_learning_complete/blob/main/9_nlp_with_tensorflow/5_using_pretrained_bert_for_text_classification.ipynb\" target=\"_parent\"><img src=\"https://colab.research.google.com/assets/colab-badge.svg\" alt=\"Open In Colab\"/></a>\n",
    "  </td>\n",
    "</table>"
   ]
  },
  {
   "cell_type": "raw",
   "metadata": {},
   "source": []
  },
  {
   "cell_type": "code",
   "execution_count": 24,
   "metadata": {
    "execution": {
     "iopub.execute_input": "2025-02-23T23:52:37.869487Z",
     "iopub.status.busy": "2025-02-23T23:52:37.868838Z",
     "iopub.status.idle": "2025-02-23T23:52:37.880826Z",
     "shell.execute_reply": "2025-02-23T23:52:37.879953Z",
     "shell.execute_reply.started": "2025-02-23T23:52:37.869453Z"
    },
    "trusted": true
   },
   "outputs": [
    {
     "data": {
      "text/html": [
       "<div>\n",
       "<style scoped>\n",
       "    .dataframe tbody tr th:only-of-type {\n",
       "        vertical-align: middle;\n",
       "    }\n",
       "\n",
       "    .dataframe tbody tr th {\n",
       "        vertical-align: top;\n",
       "    }\n",
       "\n",
       "    .dataframe thead th {\n",
       "        text-align: right;\n",
       "    }\n",
       "</style>\n",
       "<table border=\"1\" class=\"dataframe\">\n",
       "  <thead>\n",
       "    <tr style=\"text-align: right;\">\n",
       "      <th></th>\n",
       "      <th>description</th>\n",
       "      <th>true_category</th>\n",
       "      <th>predicted_category</th>\n",
       "    </tr>\n",
       "  </thead>\n",
       "  <tbody>\n",
       "    <tr>\n",
       "      <th>0</th>\n",
       "      <td>Stop Worrying: 2 Tools That Work \\n Worrying i...</td>\n",
       "      <td>HEALTH</td>\n",
       "      <td>HEALTH</td>\n",
       "    </tr>\n",
       "    <tr>\n",
       "      <th>1</th>\n",
       "      <td>get scared people say shes careerbest taapsee ...</td>\n",
       "      <td>ENTERTAINMENT</td>\n",
       "      <td>ENTERTAINMENT</td>\n",
       "    </tr>\n",
       "    <tr>\n",
       "      <th>2</th>\n",
       "      <td>Lob Haircuts Are Having A Moment In This Week'...</td>\n",
       "      <td>LIFESTYLE</td>\n",
       "      <td>LIFESTYLE</td>\n",
       "    </tr>\n",
       "    <tr>\n",
       "      <th>3</th>\n",
       "      <td>The Future of Venture Capital (Part 2) \\n I wa...</td>\n",
       "      <td>SCIENCE</td>\n",
       "      <td>FINANCE</td>\n",
       "    </tr>\n",
       "    <tr>\n",
       "      <th>4</th>\n",
       "      <td>Steve Martin Says ‘Only Murders In The Buildin...</td>\n",
       "      <td>ENTERTAINMENT</td>\n",
       "      <td>ENTERTAINMENT</td>\n",
       "    </tr>\n",
       "    <tr>\n",
       "      <th>...</th>\n",
       "      <td>...</td>\n",
       "      <td>...</td>\n",
       "      <td>...</td>\n",
       "    </tr>\n",
       "    <tr>\n",
       "      <th>6673</th>\n",
       "      <td>Catalan Parliament Declares Independence From ...</td>\n",
       "      <td>WORLD</td>\n",
       "      <td>WORLD</td>\n",
       "    </tr>\n",
       "    <tr>\n",
       "      <th>6674</th>\n",
       "      <td>Alden Ehrenreich Cast As The New Han Solo In '...</td>\n",
       "      <td>ENTERTAINMENT</td>\n",
       "      <td>ENTERTAINMENT</td>\n",
       "    </tr>\n",
       "    <tr>\n",
       "      <th>6675</th>\n",
       "      <td>Republicans Happy To Have Trump Distract The P...</td>\n",
       "      <td>POLITICS</td>\n",
       "      <td>POLITICS</td>\n",
       "    </tr>\n",
       "    <tr>\n",
       "      <th>6676</th>\n",
       "      <td>Brainstorming Middle School \\n If we want our ...</td>\n",
       "      <td>EDUCATION</td>\n",
       "      <td>EDUCATION</td>\n",
       "    </tr>\n",
       "    <tr>\n",
       "      <th>6677</th>\n",
       "      <td>U.S. Luger Emily Sweeney Wipes Out In Dramatic...</td>\n",
       "      <td>SPORTS</td>\n",
       "      <td>SPORTS</td>\n",
       "    </tr>\n",
       "  </tbody>\n",
       "</table>\n",
       "<p>6678 rows × 3 columns</p>\n",
       "</div>"
      ],
      "text/plain": [
       "                                            description  true_category  \\\n",
       "0     Stop Worrying: 2 Tools That Work \\n Worrying i...         HEALTH   \n",
       "1     get scared people say shes careerbest taapsee ...  ENTERTAINMENT   \n",
       "2     Lob Haircuts Are Having A Moment In This Week'...      LIFESTYLE   \n",
       "3     The Future of Venture Capital (Part 2) \\n I wa...        SCIENCE   \n",
       "4     Steve Martin Says ‘Only Murders In The Buildin...  ENTERTAINMENT   \n",
       "...                                                 ...            ...   \n",
       "6673  Catalan Parliament Declares Independence From ...          WORLD   \n",
       "6674  Alden Ehrenreich Cast As The New Han Solo In '...  ENTERTAINMENT   \n",
       "6675  Republicans Happy To Have Trump Distract The P...       POLITICS   \n",
       "6676  Brainstorming Middle School \\n If we want our ...      EDUCATION   \n",
       "6677  U.S. Luger Emily Sweeney Wipes Out In Dramatic...         SPORTS   \n",
       "\n",
       "     predicted_category  \n",
       "0                HEALTH  \n",
       "1         ENTERTAINMENT  \n",
       "2             LIFESTYLE  \n",
       "3               FINANCE  \n",
       "4         ENTERTAINMENT  \n",
       "...                 ...  \n",
       "6673              WORLD  \n",
       "6674      ENTERTAINMENT  \n",
       "6675           POLITICS  \n",
       "6676          EDUCATION  \n",
       "6677             SPORTS  \n",
       "\n",
       "[6678 rows x 3 columns]"
      ]
     },
     "execution_count": 24,
     "metadata": {},
     "output_type": "execute_result"
    }
   ],
   "source": [
    "result_df"
   ]
  }
 ],
 "metadata": {
  "kaggle": {
   "accelerator": "gpu",
   "dataSources": [
    {
     "datasetId": 32526,
     "sourceId": 4243451,
     "sourceType": "datasetVersion"
    },
    {
     "datasetId": 6728056,
     "sourceId": 10834374,
     "sourceType": "datasetVersion"
    }
   ],
   "dockerImageVersionId": 30299,
   "isGpuEnabled": true,
   "isInternetEnabled": true,
   "language": "python",
   "sourceType": "notebook"
  },
  "kernelspec": {
   "display_name": "Python 3",
   "language": "python",
   "name": "python3"
  },
  "language_info": {
   "codemirror_mode": {
    "name": "ipython",
    "version": 3
   },
   "file_extension": ".py",
   "mimetype": "text/x-python",
   "name": "python",
   "nbconvert_exporter": "python",
   "pygments_lexer": "ipython3",
   "version": "3.7.12"
  }
 },
 "nbformat": 4,
 "nbformat_minor": 4
}
